{
  "nbformat": 4,
  "nbformat_minor": 0,
  "metadata": {
    "colab": {
      "provenance": []
    },
    "kernelspec": {
      "name": "python3",
      "display_name": "Python 3"
    },
    "language_info": {
      "name": "python"
    }
  },
  "cells": [
    {
      "cell_type": "code",
      "execution_count": 35,
      "metadata": {
        "id": "tQ0_CxPA51F5"
      },
      "outputs": [],
      "source": [
        "import torch\n",
        "import numpy as np\n",
        "import torch.nn as nn\n",
        "import seaborn as sns\n",
        "from pprint import pprint\n",
        "from sklearn import datasets\n",
        "import matplotlib.pyplot as plt\n",
        "from sklearn.preprocessing import StandardScaler\n",
        "from sklearn.model_selection import train_test_split\n",
        "from sklearn.metrics import confusion_matrix, ConfusionMatrixDisplay"
      ]
    },
    {
      "cell_type": "code",
      "source": [
        "dataset = datasets.load_breast_cancer()"
      ],
      "metadata": {
        "id": "xR5R7hym6I71"
      },
      "execution_count": 2,
      "outputs": []
    },
    {
      "cell_type": "code",
      "source": [
        "dataset.data.shape"
      ],
      "metadata": {
        "colab": {
          "base_uri": "https://localhost:8080/"
        },
        "id": "AeZCdABQ6N6k",
        "outputId": "ef93a40c-8eb9-4c30-dc80-a41e0e08f772"
      },
      "execution_count": 3,
      "outputs": [
        {
          "output_type": "execute_result",
          "data": {
            "text/plain": [
              "(569, 30)"
            ]
          },
          "metadata": {},
          "execution_count": 3
        }
      ]
    },
    {
      "cell_type": "code",
      "source": [
        "n_samples, n_features = dataset.data.shape\n",
        "print(f'Number of samples: {n_samples}, Number of features: {n_features}')"
      ],
      "metadata": {
        "colab": {
          "base_uri": "https://localhost:8080/"
        },
        "id": "Rgg5X3zkBQ1S",
        "outputId": "2b34fdd2-4e8a-4899-fa85-e44c89026e25"
      },
      "execution_count": 4,
      "outputs": [
        {
          "output_type": "stream",
          "name": "stdout",
          "text": [
            "Number of samples: 569, Number of features: 30\n"
          ]
        }
      ]
    },
    {
      "cell_type": "code",
      "source": [
        "dataset.feature_names"
      ],
      "metadata": {
        "colab": {
          "base_uri": "https://localhost:8080/"
        },
        "id": "D4VLWHFm-y0O",
        "outputId": "89b119d9-431d-43dd-8ccb-8452954ad563"
      },
      "execution_count": 5,
      "outputs": [
        {
          "output_type": "execute_result",
          "data": {
            "text/plain": [
              "array(['mean radius', 'mean texture', 'mean perimeter', 'mean area',\n",
              "       'mean smoothness', 'mean compactness', 'mean concavity',\n",
              "       'mean concave points', 'mean symmetry', 'mean fractal dimension',\n",
              "       'radius error', 'texture error', 'perimeter error', 'area error',\n",
              "       'smoothness error', 'compactness error', 'concavity error',\n",
              "       'concave points error', 'symmetry error',\n",
              "       'fractal dimension error', 'worst radius', 'worst texture',\n",
              "       'worst perimeter', 'worst area', 'worst smoothness',\n",
              "       'worst compactness', 'worst concavity', 'worst concave points',\n",
              "       'worst symmetry', 'worst fractal dimension'], dtype='<U23')"
            ]
          },
          "metadata": {},
          "execution_count": 5
        }
      ]
    },
    {
      "cell_type": "code",
      "source": [
        "dataset.target.shape"
      ],
      "metadata": {
        "colab": {
          "base_uri": "https://localhost:8080/"
        },
        "id": "NjkY8ONk-pQU",
        "outputId": "e53f6edd-c1fd-4dfe-8c3c-022bd5951ccc"
      },
      "execution_count": 6,
      "outputs": [
        {
          "output_type": "execute_result",
          "data": {
            "text/plain": [
              "(569,)"
            ]
          },
          "metadata": {},
          "execution_count": 6
        }
      ]
    },
    {
      "cell_type": "code",
      "source": [
        "dataset.target_names"
      ],
      "metadata": {
        "colab": {
          "base_uri": "https://localhost:8080/"
        },
        "id": "NrdoL1OZ-9d_",
        "outputId": "7a969fa1-22f5-4dd5-e14f-4ca54c42dce7"
      },
      "execution_count": 7,
      "outputs": [
        {
          "output_type": "execute_result",
          "data": {
            "text/plain": [
              "array(['malignant', 'benign'], dtype='<U9')"
            ]
          },
          "metadata": {},
          "execution_count": 7
        }
      ]
    },
    {
      "cell_type": "code",
      "source": [
        "pprint(dataset.DESCR)"
      ],
      "metadata": {
        "colab": {
          "base_uri": "https://localhost:8080/"
        },
        "id": "jXHp49Fh-_dd",
        "outputId": "06b566a5-8430-4a98-da5d-f05842f6e5d8"
      },
      "execution_count": 8,
      "outputs": [
        {
          "output_type": "stream",
          "name": "stdout",
          "text": [
            "('.. _breast_cancer_dataset:\\n'\n",
            " '\\n'\n",
            " 'Breast cancer wisconsin (diagnostic) dataset\\n'\n",
            " '--------------------------------------------\\n'\n",
            " '\\n'\n",
            " '**Data Set Characteristics:**\\n'\n",
            " '\\n'\n",
            " ':Number of Instances: 569\\n'\n",
            " '\\n'\n",
            " ':Number of Attributes: 30 numeric, predictive attributes and the class\\n'\n",
            " '\\n'\n",
            " ':Attribute Information:\\n'\n",
            " '    - radius (mean of distances from center to points on the perimeter)\\n'\n",
            " '    - texture (standard deviation of gray-scale values)\\n'\n",
            " '    - perimeter\\n'\n",
            " '    - area\\n'\n",
            " '    - smoothness (local variation in radius lengths)\\n'\n",
            " '    - compactness (perimeter^2 / area - 1.0)\\n'\n",
            " '    - concavity (severity of concave portions of the contour)\\n'\n",
            " '    - concave points (number of concave portions of the contour)\\n'\n",
            " '    - symmetry\\n'\n",
            " '    - fractal dimension (\"coastline approximation\" - 1)\\n'\n",
            " '\\n'\n",
            " '    The mean, standard error, and \"worst\" or largest (mean of the three\\n'\n",
            " '    worst/largest values) of these features were computed for each image,\\n'\n",
            " '    resulting in 30 features.  For instance, field 0 is Mean Radius, field\\n'\n",
            " '    10 is Radius SE, field 20 is Worst Radius.\\n'\n",
            " '\\n'\n",
            " '    - class:\\n'\n",
            " '            - WDBC-Malignant\\n'\n",
            " '            - WDBC-Benign\\n'\n",
            " '\\n'\n",
            " ':Summary Statistics:\\n'\n",
            " '\\n'\n",
            " '===================================== ====== ======\\n'\n",
            " '                                        Min    Max\\n'\n",
            " '===================================== ====== ======\\n'\n",
            " 'radius (mean):                        6.981  28.11\\n'\n",
            " 'texture (mean):                       9.71   39.28\\n'\n",
            " 'perimeter (mean):                     43.79  188.5\\n'\n",
            " 'area (mean):                          143.5  2501.0\\n'\n",
            " 'smoothness (mean):                    0.053  0.163\\n'\n",
            " 'compactness (mean):                   0.019  0.345\\n'\n",
            " 'concavity (mean):                     0.0    0.427\\n'\n",
            " 'concave points (mean):                0.0    0.201\\n'\n",
            " 'symmetry (mean):                      0.106  0.304\\n'\n",
            " 'fractal dimension (mean):             0.05   0.097\\n'\n",
            " 'radius (standard error):              0.112  2.873\\n'\n",
            " 'texture (standard error):             0.36   4.885\\n'\n",
            " 'perimeter (standard error):           0.757  21.98\\n'\n",
            " 'area (standard error):                6.802  542.2\\n'\n",
            " 'smoothness (standard error):          0.002  0.031\\n'\n",
            " 'compactness (standard error):         0.002  0.135\\n'\n",
            " 'concavity (standard error):           0.0    0.396\\n'\n",
            " 'concave points (standard error):      0.0    0.053\\n'\n",
            " 'symmetry (standard error):            0.008  0.079\\n'\n",
            " 'fractal dimension (standard error):   0.001  0.03\\n'\n",
            " 'radius (worst):                       7.93   36.04\\n'\n",
            " 'texture (worst):                      12.02  49.54\\n'\n",
            " 'perimeter (worst):                    50.41  251.2\\n'\n",
            " 'area (worst):                         185.2  4254.0\\n'\n",
            " 'smoothness (worst):                   0.071  0.223\\n'\n",
            " 'compactness (worst):                  0.027  1.058\\n'\n",
            " 'concavity (worst):                    0.0    1.252\\n'\n",
            " 'concave points (worst):               0.0    0.291\\n'\n",
            " 'symmetry (worst):                     0.156  0.664\\n'\n",
            " 'fractal dimension (worst):            0.055  0.208\\n'\n",
            " '===================================== ====== ======\\n'\n",
            " '\\n'\n",
            " ':Missing Attribute Values: None\\n'\n",
            " '\\n'\n",
            " ':Class Distribution: 212 - Malignant, 357 - Benign\\n'\n",
            " '\\n'\n",
            " ':Creator:  Dr. William H. Wolberg, W. Nick Street, Olvi L. Mangasarian\\n'\n",
            " '\\n'\n",
            " ':Donor: Nick Street\\n'\n",
            " '\\n'\n",
            " ':Date: November, 1995\\n'\n",
            " '\\n'\n",
            " 'This is a copy of UCI ML Breast Cancer Wisconsin (Diagnostic) datasets.\\n'\n",
            " 'https://goo.gl/U2Uwz2\\n'\n",
            " '\\n'\n",
            " 'Features are computed from a digitized image of a fine needle\\n'\n",
            " 'aspirate (FNA) of a breast mass.  They describe\\n'\n",
            " 'characteristics of the cell nuclei present in the image.\\n'\n",
            " '\\n'\n",
            " 'Separating plane described above was obtained using\\n'\n",
            " 'Multisurface Method-Tree (MSM-T) [K. P. Bennett, \"Decision Tree\\n'\n",
            " 'Construction Via Linear Programming.\" Proceedings of the 4th\\n'\n",
            " 'Midwest Artificial Intelligence and Cognitive Science Society,\\n'\n",
            " 'pp. 97-101, 1992], a classification method which uses linear\\n'\n",
            " 'programming to construct a decision tree.  Relevant features\\n'\n",
            " 'were selected using an exhaustive search in the space of 1-4\\n'\n",
            " 'features and 1-3 separating planes.\\n'\n",
            " '\\n'\n",
            " 'The actual linear program used to obtain the separating plane\\n'\n",
            " 'in the 3-dimensional space is that described in:\\n'\n",
            " '[K. P. Bennett and O. L. Mangasarian: \"Robust Linear\\n'\n",
            " 'Programming Discrimination of Two Linearly Inseparable Sets\",\\n'\n",
            " 'Optimization Methods and Software 1, 1992, 23-34].\\n'\n",
            " '\\n'\n",
            " 'This database is also available through the UW CS ftp server:\\n'\n",
            " '\\n'\n",
            " 'ftp ftp.cs.wisc.edu\\n'\n",
            " 'cd math-prog/cpo-dataset/machine-learn/WDBC/\\n'\n",
            " '\\n'\n",
            " '.. dropdown:: References\\n'\n",
            " '\\n'\n",
            " '  - W.N. Street, W.H. Wolberg and O.L. Mangasarian. Nuclear feature '\n",
            " 'extraction\\n'\n",
            " '    for breast tumor diagnosis. IS&T/SPIE 1993 International Symposium on\\n'\n",
            " '    Electronic Imaging: Science and Technology, volume 1905, pages 861-870,\\n'\n",
            " '    San Jose, CA, 1993.\\n'\n",
            " '  - O.L. Mangasarian, W.N. Street and W.H. Wolberg. Breast cancer diagnosis '\n",
            " 'and\\n'\n",
            " '    prognosis via linear programming. Operations Research, 43(4), pages '\n",
            " '570-577,\\n'\n",
            " '    July-August 1995.\\n'\n",
            " '  - W.H. Wolberg, W.N. Street, and O.L. Mangasarian. Machine learning '\n",
            " 'techniques\\n'\n",
            " '    to diagnose breast cancer from fine-needle aspirates. Cancer Letters 77 '\n",
            " '(1994)\\n'\n",
            " '    163-171.\\n')\n"
          ]
        }
      ]
    },
    {
      "cell_type": "code",
      "source": [
        "class_1_counts = sum(dataset.target)            # Benign\n",
        "class_0_counts = dataset.target.shape[0] - class_1_counts         # Malignant\n",
        "\n",
        "print('Class 0 Counts (Malignant):', class_0_counts)\n",
        "print('Class 1 Counts (Benign):', class_1_counts)"
      ],
      "metadata": {
        "colab": {
          "base_uri": "https://localhost:8080/"
        },
        "id": "6Fk-rIGz_Kae",
        "outputId": "a21680d7-1ee9-4377-814c-0c64f17fe0c2"
      },
      "execution_count": 9,
      "outputs": [
        {
          "output_type": "stream",
          "name": "stdout",
          "text": [
            "Class 0 Counts (Malignant): 212\n",
            "Class 1 Counts (Benign): 357\n"
          ]
        }
      ]
    },
    {
      "cell_type": "code",
      "source": [
        "sns.countplot(x=dataset.target)\n",
        "plt.title('Class Count')\n",
        "plt.xlabel('Class')\n",
        "plt.ylabel('Count')\n",
        "plt.xticks(ticks=[0, 1], labels=['Malignant', 'Benign'])\n",
        "plt.show()"
      ],
      "metadata": {
        "colab": {
          "base_uri": "https://localhost:8080/",
          "height": 472
        },
        "id": "Su1-g9li_-l0",
        "outputId": "266fe69b-1b7b-4cf5-8554-c2493d0961c3"
      },
      "execution_count": 10,
      "outputs": [
        {
          "output_type": "display_data",
          "data": {
            "text/plain": [
              "<Figure size 640x480 with 1 Axes>"
            ],
            "image/png": "[encoded data removed]"
          },
          "metadata": {}
        }
      ]
    },
    {
      "cell_type": "code",
      "source": [
        "X = dataset.data\n",
        "y = dataset.target\n",
        "\n",
        "# Split the dataset\n",
        "X_train, X_test, y_train, y_test = train_test_split(X, y, test_size=0.2, random_state=20)\n",
        "\n",
        "# Scale the data\n",
        "scaler = StandardScaler()\n",
        "X_train = scaler.fit_transform(X_train)\n",
        "X_test = scaler.transform(X_test)\n",
        "\n",
        "# Convert to tensors\n",
        "X_train = torch.from_numpy(X_train.astype(np.float32))\n",
        "X_test = torch.from_numpy(X_test.astype(np.float32))\n",
        "y_train = torch.from_numpy(y_train.astype(np.float32))\n",
        "y_test = torch.from_numpy(y_test.astype(np.float32))\n",
        "\n",
        "# reshape y tensors\n",
        "y_train = y_train.view(y_train.shape[0], 1)\n",
        "y_test = y_test.view(y_test.shape[0], 1)"
      ],
      "metadata": {
        "id": "7Up6OViBAK0D"
      },
      "execution_count": 11,
      "outputs": []
    },
    {
      "cell_type": "code",
      "source": [
        "# Create model\n",
        "class LogisticRegression(nn.Module):\n",
        "\n",
        "    def __init__(self, n_input_features):\n",
        "        super(LogisticRegression, self).__init__()\n",
        "        self.linear = nn.Linear(n_input_features, 1)          # f = wx + b\n",
        "\n",
        "    def forward(self, x):\n",
        "        # Convert predictions to probabilities\n",
        "        y_predicted = torch.sigmoid(self.linear(x))\n",
        "        return y_predicted"
      ],
      "metadata": {
        "id": "q2mV11VCDNVb"
      },
      "execution_count": 13,
      "outputs": []
    },
    {
      "cell_type": "code",
      "source": [
        "# Instantiate the model\n",
        "model = LogisticRegression(n_features)"
      ],
      "metadata": {
        "id": "fjSX2eqR4CvQ"
      },
      "execution_count": null,
      "outputs": []
    },
    {
      "cell_type": "code",
      "source": [
        "# Loss and optimizer\n",
        "learning_rate = 0.02\n",
        "criterion = nn.BCELoss()\n",
        "optimizer = torch.optim.SGD(model.parameters(), lr=learning_rate)"
      ],
      "metadata": {
        "id": "_9UiigpUxJLb"
      },
      "execution_count": 17,
      "outputs": []
    },
    {
      "cell_type": "code",
      "source": [
        "def train_model(X_train, y_train, model, criterion, optimizer, num_epochs = 100):\n",
        "\n",
        "  # Training loop\n",
        "  for epoch in range(num_epochs):\n",
        "\n",
        "      # Forward pass\n",
        "      y_predicted = model(X_train)\n",
        "      loss = criterion(y_predicted, y_train)   # Loss\n",
        "\n",
        "      # Backward pass\n",
        "      loss.backward()\n",
        "\n",
        "      # Update Gradients\n",
        "      optimizer.step()\n",
        "\n",
        "      # Zero Gradients\n",
        "      optimizer.zero_grad()\n",
        "\n",
        "      if (epoch+1) % 10 == 0:\n",
        "\n",
        "          print(f'epoch: {epoch+1}, loss = {loss.item():.4f}')"
      ],
      "metadata": {
        "id": "4mJVgDBVxNw2"
      },
      "execution_count": 23,
      "outputs": []
    },
    {
      "cell_type": "code",
      "source": [
        "def evaluate_model(X_test, y_test, model):\n",
        "\n",
        "  # Set the model to evaluation mode\n",
        "  model.eval()\n",
        "\n",
        "  with torch.no_grad():\n",
        "\n",
        "    y_predicted = model(X_test)  # Get predicted labels as probabilities\n",
        "    y_predicted_cls = (y_predicted > 0.5).int()  # Round off to nearest class\n",
        "    acc = y_predicted_cls.eq(y_test).sum() / float(y_test.shape[0])  # Compute Accuracy\n",
        "    print(f'Accuracy = {acc:.4f}')\n",
        "\n",
        "    # Plot confusion matrix\n",
        "    cm = confusion_matrix(y_test, y_predicted_cls)\n",
        "    disp = ConfusionMatrixDisplay(confusion_matrix=cm, display_labels=['Benign', 'Malignant'])\n",
        "\n",
        "    disp.plot(cmap='Blues')\n",
        "    plt.show()"
      ],
      "metadata": {
        "id": "KL0kONUj3Kq_"
      },
      "execution_count": 44,
      "outputs": []
    },
    {
      "cell_type": "code",
      "source": [
        "train_model(X_train, y_train, model, criterion, optimizer)"
      ],
      "metadata": {
        "colab": {
          "base_uri": "https://localhost:8080/"
        },
        "id": "keLqjFcU3EiU",
        "outputId": "fcc32219-e624-496b-8a8a-8731c325d0c3"
      },
      "execution_count": 45,
      "outputs": [
        {
          "output_type": "stream",
          "name": "stdout",
          "text": [
            "epoch: 10, loss = 0.1208\n",
            "epoch: 20, loss = 0.1197\n",
            "epoch: 30, loss = 0.1188\n",
            "epoch: 40, loss = 0.1178\n",
            "epoch: 50, loss = 0.1169\n",
            "epoch: 60, loss = 0.1160\n",
            "epoch: 70, loss = 0.1152\n",
            "epoch: 80, loss = 0.1144\n",
            "epoch: 90, loss = 0.1136\n",
            "epoch: 100, loss = 0.1129\n"
          ]
        }
      ]
    },
    {
      "cell_type": "code",
      "source": [
        "evaluate_model(X_test, y_test, model)"
      ],
      "metadata": {
        "colab": {
          "base_uri": "https://localhost:8080/",
          "height": 466
        },
        "id": "G4pEntMr3eTw",
        "outputId": "e16b80e9-5ad3-4fc7-970c-ec517c2f8419"
      },
      "execution_count": 46,
      "outputs": [
        {
          "output_type": "stream",
          "name": "stdout",
          "text": [
            "Accuracy = 0.9912\n"
          ]
        },
        {
          "output_type": "display_data",
          "data": {
            "text/plain": [
              "<Figure size 640x480 with 2 Axes>"
            ],
            "image/png": "[encoded data removed]"
          },
          "metadata": {}
        }
      ]
    }
  ]
}